{
 "cells": [
  {
   "cell_type": "code",
   "execution_count": 1,
   "id": "8602d275",
   "metadata": {},
   "outputs": [],
   "source": [
    "import pandas as pd\n",
    "import numpy as np\n",
    "import seaborn as sns\n",
    "import matplotlib.pyplot as plt"
   ]
  },
  {
   "cell_type": "code",
   "execution_count": 2,
   "id": "5c9553ab",
   "metadata": {},
   "outputs": [
    {
     "data": {
      "text/html": [
       "<div>\n",
       "<style scoped>\n",
       "    .dataframe tbody tr th:only-of-type {\n",
       "        vertical-align: middle;\n",
       "    }\n",
       "\n",
       "    .dataframe tbody tr th {\n",
       "        vertical-align: top;\n",
       "    }\n",
       "\n",
       "    .dataframe thead th {\n",
       "        text-align: right;\n",
       "    }\n",
       "</style>\n",
       "<table border=\"1\" class=\"dataframe\">\n",
       "  <thead>\n",
       "    <tr style=\"text-align: right;\">\n",
       "      <th></th>\n",
       "      <th>id</th>\n",
       "      <th>Gender</th>\n",
       "      <th>Age</th>\n",
       "      <th>Height</th>\n",
       "      <th>Weight</th>\n",
       "      <th>family_history_with_overweight</th>\n",
       "      <th>FAVC</th>\n",
       "      <th>FCVC</th>\n",
       "      <th>NCP</th>\n",
       "      <th>CAEC</th>\n",
       "      <th>SMOKE</th>\n",
       "      <th>CH2O</th>\n",
       "      <th>SCC</th>\n",
       "      <th>FAF</th>\n",
       "      <th>TUE</th>\n",
       "      <th>CALC</th>\n",
       "      <th>MTRANS</th>\n",
       "      <th>NObeyesdad</th>\n",
       "    </tr>\n",
       "  </thead>\n",
       "  <tbody>\n",
       "    <tr>\n",
       "      <th>0</th>\n",
       "      <td>0</td>\n",
       "      <td>Male</td>\n",
       "      <td>24.443011</td>\n",
       "      <td>1.699998</td>\n",
       "      <td>81.669950</td>\n",
       "      <td>yes</td>\n",
       "      <td>yes</td>\n",
       "      <td>2.000000</td>\n",
       "      <td>2.983297</td>\n",
       "      <td>Sometimes</td>\n",
       "      <td>no</td>\n",
       "      <td>2.763573</td>\n",
       "      <td>no</td>\n",
       "      <td>0.000000</td>\n",
       "      <td>0.976473</td>\n",
       "      <td>Sometimes</td>\n",
       "      <td>Public_Transportation</td>\n",
       "      <td>Overweight_Level_II</td>\n",
       "    </tr>\n",
       "    <tr>\n",
       "      <th>1</th>\n",
       "      <td>1</td>\n",
       "      <td>Female</td>\n",
       "      <td>18.000000</td>\n",
       "      <td>1.560000</td>\n",
       "      <td>57.000000</td>\n",
       "      <td>yes</td>\n",
       "      <td>yes</td>\n",
       "      <td>2.000000</td>\n",
       "      <td>3.000000</td>\n",
       "      <td>Frequently</td>\n",
       "      <td>no</td>\n",
       "      <td>2.000000</td>\n",
       "      <td>no</td>\n",
       "      <td>1.000000</td>\n",
       "      <td>1.000000</td>\n",
       "      <td>no</td>\n",
       "      <td>Automobile</td>\n",
       "      <td>Normal_Weight</td>\n",
       "    </tr>\n",
       "    <tr>\n",
       "      <th>2</th>\n",
       "      <td>2</td>\n",
       "      <td>Female</td>\n",
       "      <td>18.000000</td>\n",
       "      <td>1.711460</td>\n",
       "      <td>50.165754</td>\n",
       "      <td>yes</td>\n",
       "      <td>yes</td>\n",
       "      <td>1.880534</td>\n",
       "      <td>1.411685</td>\n",
       "      <td>Sometimes</td>\n",
       "      <td>no</td>\n",
       "      <td>1.910378</td>\n",
       "      <td>no</td>\n",
       "      <td>0.866045</td>\n",
       "      <td>1.673584</td>\n",
       "      <td>no</td>\n",
       "      <td>Public_Transportation</td>\n",
       "      <td>Insufficient_Weight</td>\n",
       "    </tr>\n",
       "    <tr>\n",
       "      <th>3</th>\n",
       "      <td>3</td>\n",
       "      <td>Female</td>\n",
       "      <td>20.952737</td>\n",
       "      <td>1.710730</td>\n",
       "      <td>131.274851</td>\n",
       "      <td>yes</td>\n",
       "      <td>yes</td>\n",
       "      <td>3.000000</td>\n",
       "      <td>3.000000</td>\n",
       "      <td>Sometimes</td>\n",
       "      <td>no</td>\n",
       "      <td>1.674061</td>\n",
       "      <td>no</td>\n",
       "      <td>1.467863</td>\n",
       "      <td>0.780199</td>\n",
       "      <td>Sometimes</td>\n",
       "      <td>Public_Transportation</td>\n",
       "      <td>Obesity_Type_III</td>\n",
       "    </tr>\n",
       "    <tr>\n",
       "      <th>4</th>\n",
       "      <td>4</td>\n",
       "      <td>Male</td>\n",
       "      <td>31.641081</td>\n",
       "      <td>1.914186</td>\n",
       "      <td>93.798055</td>\n",
       "      <td>yes</td>\n",
       "      <td>yes</td>\n",
       "      <td>2.679664</td>\n",
       "      <td>1.971472</td>\n",
       "      <td>Sometimes</td>\n",
       "      <td>no</td>\n",
       "      <td>1.979848</td>\n",
       "      <td>no</td>\n",
       "      <td>1.967973</td>\n",
       "      <td>0.931721</td>\n",
       "      <td>Sometimes</td>\n",
       "      <td>Public_Transportation</td>\n",
       "      <td>Overweight_Level_II</td>\n",
       "    </tr>\n",
       "  </tbody>\n",
       "</table>\n",
       "</div>"
      ],
      "text/plain": [
       "   id  Gender        Age    Height      Weight family_history_with_overweight  \\\n",
       "0   0    Male  24.443011  1.699998   81.669950                            yes   \n",
       "1   1  Female  18.000000  1.560000   57.000000                            yes   \n",
       "2   2  Female  18.000000  1.711460   50.165754                            yes   \n",
       "3   3  Female  20.952737  1.710730  131.274851                            yes   \n",
       "4   4    Male  31.641081  1.914186   93.798055                            yes   \n",
       "\n",
       "  FAVC      FCVC       NCP        CAEC SMOKE      CH2O SCC       FAF  \\\n",
       "0  yes  2.000000  2.983297   Sometimes    no  2.763573  no  0.000000   \n",
       "1  yes  2.000000  3.000000  Frequently    no  2.000000  no  1.000000   \n",
       "2  yes  1.880534  1.411685   Sometimes    no  1.910378  no  0.866045   \n",
       "3  yes  3.000000  3.000000   Sometimes    no  1.674061  no  1.467863   \n",
       "4  yes  2.679664  1.971472   Sometimes    no  1.979848  no  1.967973   \n",
       "\n",
       "        TUE       CALC                 MTRANS           NObeyesdad  \n",
       "0  0.976473  Sometimes  Public_Transportation  Overweight_Level_II  \n",
       "1  1.000000         no             Automobile        Normal_Weight  \n",
       "2  1.673584         no  Public_Transportation  Insufficient_Weight  \n",
       "3  0.780199  Sometimes  Public_Transportation     Obesity_Type_III  \n",
       "4  0.931721  Sometimes  Public_Transportation  Overweight_Level_II  "
      ]
     },
     "execution_count": 2,
     "metadata": {},
     "output_type": "execute_result"
    }
   ],
   "source": [
    "df_1 = pd.read_csv('dataset/train.csv')\n",
    "df_2 = pd.read_csv('dataset/test.csv')\n",
    "\n",
    "df_1.head()"
   ]
  },
  {
   "cell_type": "code",
   "execution_count": 3,
   "id": "4663da31",
   "metadata": {},
   "outputs": [
    {
     "data": {
      "text/plain": [
       "Index(['id', 'Gender', 'Age', 'Height', 'Weight',\n",
       "       'family_history_with_overweight', 'FAVC', 'FCVC', 'NCP', 'CAEC',\n",
       "       'SMOKE', 'CH2O', 'SCC', 'FAF', 'TUE', 'CALC', 'MTRANS', 'NObeyesdad'],\n",
       "      dtype='object')"
      ]
     },
     "execution_count": 3,
     "metadata": {},
     "output_type": "execute_result"
    }
   ],
   "source": [
    "df_1.columns"
   ]
  },
  {
   "cell_type": "code",
   "execution_count": 4,
   "id": "1bc7b646",
   "metadata": {},
   "outputs": [
    {
     "data": {
      "text/plain": [
       "NObeyesdad\n",
       "Obesity_Type_III       4046\n",
       "Obesity_Type_II        3248\n",
       "Normal_Weight          3082\n",
       "Obesity_Type_I         2910\n",
       "Insufficient_Weight    2523\n",
       "Overweight_Level_II    2522\n",
       "Overweight_Level_I     2427\n",
       "Name: count, dtype: int64"
      ]
     },
     "execution_count": 4,
     "metadata": {},
     "output_type": "execute_result"
    }
   ],
   "source": [
    "df_1['NObeyesdad'].value_counts()"
   ]
  },
  {
   "cell_type": "code",
   "execution_count": 5,
   "id": "e2e49320",
   "metadata": {},
   "outputs": [
    {
     "data": {
      "text/html": [
       "<div>\n",
       "<style scoped>\n",
       "    .dataframe tbody tr th:only-of-type {\n",
       "        vertical-align: middle;\n",
       "    }\n",
       "\n",
       "    .dataframe tbody tr th {\n",
       "        vertical-align: top;\n",
       "    }\n",
       "\n",
       "    .dataframe thead th {\n",
       "        text-align: right;\n",
       "    }\n",
       "</style>\n",
       "<table border=\"1\" class=\"dataframe\">\n",
       "  <thead>\n",
       "    <tr style=\"text-align: right;\">\n",
       "      <th></th>\n",
       "      <th>id</th>\n",
       "      <th>Age</th>\n",
       "      <th>Height</th>\n",
       "      <th>Weight</th>\n",
       "      <th>FCVC</th>\n",
       "      <th>NCP</th>\n",
       "      <th>CH2O</th>\n",
       "      <th>FAF</th>\n",
       "      <th>TUE</th>\n",
       "    </tr>\n",
       "  </thead>\n",
       "  <tbody>\n",
       "    <tr>\n",
       "      <th>count</th>\n",
       "      <td>20758.00000</td>\n",
       "      <td>20758.000000</td>\n",
       "      <td>20758.000000</td>\n",
       "      <td>20758.000000</td>\n",
       "      <td>20758.000000</td>\n",
       "      <td>20758.000000</td>\n",
       "      <td>20758.000000</td>\n",
       "      <td>20758.000000</td>\n",
       "      <td>20758.000000</td>\n",
       "    </tr>\n",
       "    <tr>\n",
       "      <th>mean</th>\n",
       "      <td>10378.50000</td>\n",
       "      <td>23.841804</td>\n",
       "      <td>1.700245</td>\n",
       "      <td>87.887768</td>\n",
       "      <td>2.445908</td>\n",
       "      <td>2.761332</td>\n",
       "      <td>2.029418</td>\n",
       "      <td>0.981747</td>\n",
       "      <td>0.616756</td>\n",
       "    </tr>\n",
       "    <tr>\n",
       "      <th>std</th>\n",
       "      <td>5992.46278</td>\n",
       "      <td>5.688072</td>\n",
       "      <td>0.087312</td>\n",
       "      <td>26.379443</td>\n",
       "      <td>0.533218</td>\n",
       "      <td>0.705375</td>\n",
       "      <td>0.608467</td>\n",
       "      <td>0.838302</td>\n",
       "      <td>0.602113</td>\n",
       "    </tr>\n",
       "    <tr>\n",
       "      <th>min</th>\n",
       "      <td>0.00000</td>\n",
       "      <td>14.000000</td>\n",
       "      <td>1.450000</td>\n",
       "      <td>39.000000</td>\n",
       "      <td>1.000000</td>\n",
       "      <td>1.000000</td>\n",
       "      <td>1.000000</td>\n",
       "      <td>0.000000</td>\n",
       "      <td>0.000000</td>\n",
       "    </tr>\n",
       "    <tr>\n",
       "      <th>25%</th>\n",
       "      <td>5189.25000</td>\n",
       "      <td>20.000000</td>\n",
       "      <td>1.631856</td>\n",
       "      <td>66.000000</td>\n",
       "      <td>2.000000</td>\n",
       "      <td>3.000000</td>\n",
       "      <td>1.792022</td>\n",
       "      <td>0.008013</td>\n",
       "      <td>0.000000</td>\n",
       "    </tr>\n",
       "    <tr>\n",
       "      <th>50%</th>\n",
       "      <td>10378.50000</td>\n",
       "      <td>22.815416</td>\n",
       "      <td>1.700000</td>\n",
       "      <td>84.064875</td>\n",
       "      <td>2.393837</td>\n",
       "      <td>3.000000</td>\n",
       "      <td>2.000000</td>\n",
       "      <td>1.000000</td>\n",
       "      <td>0.573887</td>\n",
       "    </tr>\n",
       "    <tr>\n",
       "      <th>75%</th>\n",
       "      <td>15567.75000</td>\n",
       "      <td>26.000000</td>\n",
       "      <td>1.762887</td>\n",
       "      <td>111.600553</td>\n",
       "      <td>3.000000</td>\n",
       "      <td>3.000000</td>\n",
       "      <td>2.549617</td>\n",
       "      <td>1.587406</td>\n",
       "      <td>1.000000</td>\n",
       "    </tr>\n",
       "    <tr>\n",
       "      <th>max</th>\n",
       "      <td>20757.00000</td>\n",
       "      <td>61.000000</td>\n",
       "      <td>1.975663</td>\n",
       "      <td>165.057269</td>\n",
       "      <td>3.000000</td>\n",
       "      <td>4.000000</td>\n",
       "      <td>3.000000</td>\n",
       "      <td>3.000000</td>\n",
       "      <td>2.000000</td>\n",
       "    </tr>\n",
       "  </tbody>\n",
       "</table>\n",
       "</div>"
      ],
      "text/plain": [
       "                id           Age        Height        Weight          FCVC  \\\n",
       "count  20758.00000  20758.000000  20758.000000  20758.000000  20758.000000   \n",
       "mean   10378.50000     23.841804      1.700245     87.887768      2.445908   \n",
       "std     5992.46278      5.688072      0.087312     26.379443      0.533218   \n",
       "min        0.00000     14.000000      1.450000     39.000000      1.000000   \n",
       "25%     5189.25000     20.000000      1.631856     66.000000      2.000000   \n",
       "50%    10378.50000     22.815416      1.700000     84.064875      2.393837   \n",
       "75%    15567.75000     26.000000      1.762887    111.600553      3.000000   \n",
       "max    20757.00000     61.000000      1.975663    165.057269      3.000000   \n",
       "\n",
       "                NCP          CH2O           FAF           TUE  \n",
       "count  20758.000000  20758.000000  20758.000000  20758.000000  \n",
       "mean       2.761332      2.029418      0.981747      0.616756  \n",
       "std        0.705375      0.608467      0.838302      0.602113  \n",
       "min        1.000000      1.000000      0.000000      0.000000  \n",
       "25%        3.000000      1.792022      0.008013      0.000000  \n",
       "50%        3.000000      2.000000      1.000000      0.573887  \n",
       "75%        3.000000      2.549617      1.587406      1.000000  \n",
       "max        4.000000      3.000000      3.000000      2.000000  "
      ]
     },
     "execution_count": 5,
     "metadata": {},
     "output_type": "execute_result"
    }
   ],
   "source": [
    "df_1.describe()"
   ]
  },
  {
   "cell_type": "code",
   "execution_count": 6,
   "id": "7354c482",
   "metadata": {},
   "outputs": [
    {
     "name": "stdout",
     "output_type": "stream",
     "text": [
      "<class 'pandas.core.frame.DataFrame'>\n",
      "RangeIndex: 20758 entries, 0 to 20757\n",
      "Data columns (total 18 columns):\n",
      " #   Column                          Non-Null Count  Dtype  \n",
      "---  ------                          --------------  -----  \n",
      " 0   id                              20758 non-null  int64  \n",
      " 1   Gender                          20758 non-null  object \n",
      " 2   Age                             20758 non-null  float64\n",
      " 3   Height                          20758 non-null  float64\n",
      " 4   Weight                          20758 non-null  float64\n",
      " 5   family_history_with_overweight  20758 non-null  object \n",
      " 6   FAVC                            20758 non-null  object \n",
      " 7   FCVC                            20758 non-null  float64\n",
      " 8   NCP                             20758 non-null  float64\n",
      " 9   CAEC                            20758 non-null  object \n",
      " 10  SMOKE                           20758 non-null  object \n",
      " 11  CH2O                            20758 non-null  float64\n",
      " 12  SCC                             20758 non-null  object \n",
      " 13  FAF                             20758 non-null  float64\n",
      " 14  TUE                             20758 non-null  float64\n",
      " 15  CALC                            20758 non-null  object \n",
      " 16  MTRANS                          20758 non-null  object \n",
      " 17  NObeyesdad                      20758 non-null  object \n",
      "dtypes: float64(8), int64(1), object(9)\n",
      "memory usage: 2.9+ MB\n"
     ]
    }
   ],
   "source": [
    "df_1.info()"
   ]
  },
  {
   "cell_type": "code",
   "execution_count": 7,
   "id": "fa3de693",
   "metadata": {},
   "outputs": [
    {
     "name": "stdout",
     "output_type": "stream",
     "text": [
      "<class 'pandas.core.frame.DataFrame'>\n",
      "RangeIndex: 13840 entries, 0 to 13839\n",
      "Data columns (total 17 columns):\n",
      " #   Column                          Non-Null Count  Dtype  \n",
      "---  ------                          --------------  -----  \n",
      " 0   id                              13840 non-null  int64  \n",
      " 1   Gender                          13840 non-null  object \n",
      " 2   Age                             13840 non-null  float64\n",
      " 3   Height                          13840 non-null  float64\n",
      " 4   Weight                          13840 non-null  float64\n",
      " 5   family_history_with_overweight  13840 non-null  object \n",
      " 6   FAVC                            13840 non-null  object \n",
      " 7   FCVC                            13840 non-null  float64\n",
      " 8   NCP                             13840 non-null  float64\n",
      " 9   CAEC                            13840 non-null  object \n",
      " 10  SMOKE                           13840 non-null  object \n",
      " 11  CH2O                            13840 non-null  float64\n",
      " 12  SCC                             13840 non-null  object \n",
      " 13  FAF                             13840 non-null  float64\n",
      " 14  TUE                             13840 non-null  float64\n",
      " 15  CALC                            13840 non-null  object \n",
      " 16  MTRANS                          13840 non-null  object \n",
      "dtypes: float64(8), int64(1), object(8)\n",
      "memory usage: 1.8+ MB\n"
     ]
    }
   ],
   "source": [
    "df_2.info()"
   ]
  },
  {
   "cell_type": "markdown",
   "id": "d6abfaae",
   "metadata": {},
   "source": [
    "## Data Quality & Types\n",
    "\n",
    "- **No missing values**  \n",
    "  Both `train.csv` and `test.csv` have **0 nulls** in all 18 columns — no imputation needed at this stage.\n",
    "\n",
    "- **Mostly numerical**  \n",
    "  - **Numerical features**:  \n",
    "    `Age`, `Height`, `Weight`, `FCVC`, `NCP`, `CH20`, `FAF`, `TUE`  \n",
    "  - **Categorical features** (object dtype):  \n",
    "    `Gender`, `family_history_with_overweight`, `FAVC`, `CAEC`, `SMOKE`, `SCC`, `CALC`, `MTRANS`, plus the target `NObeyesdad`\n",
    "\n",
    "> This clean, largely numeric dataset makes preprocessing straightforward and lets us dive into feature engineering and modeling right away.\n"
   ]
  },
  {
   "cell_type": "code",
   "execution_count": 8,
   "id": "795bc534",
   "metadata": {},
   "outputs": [
    {
     "data": {
      "text/plain": [
       "Index(['Gender', 'family_history_with_overweight', 'FAVC', 'CAEC', 'SMOKE',\n",
       "       'SCC', 'CALC', 'MTRANS', 'NObeyesdad'],\n",
       "      dtype='object')"
      ]
     },
     "execution_count": 8,
     "metadata": {},
     "output_type": "execute_result"
    }
   ],
   "source": [
    "categorical_cols = df_1.select_dtypes(include=['object']).columns\n",
    "\n",
    "categorical_cols"
   ]
  },
  {
   "cell_type": "code",
   "execution_count": 9,
   "id": "1606c154",
   "metadata": {},
   "outputs": [
    {
     "name": "stdout",
     "output_type": "stream",
     "text": [
      "Dataframes concatenated successfully.\n"
     ]
    },
    {
     "data": {
      "text/html": [
       "<div>\n",
       "<style scoped>\n",
       "    .dataframe tbody tr th:only-of-type {\n",
       "        vertical-align: middle;\n",
       "    }\n",
       "\n",
       "    .dataframe tbody tr th {\n",
       "        vertical-align: top;\n",
       "    }\n",
       "\n",
       "    .dataframe thead th {\n",
       "        text-align: right;\n",
       "    }\n",
       "</style>\n",
       "<table border=\"1\" class=\"dataframe\">\n",
       "  <thead>\n",
       "    <tr style=\"text-align: right;\">\n",
       "      <th></th>\n",
       "      <th>id</th>\n",
       "      <th>Gender</th>\n",
       "      <th>Age</th>\n",
       "      <th>Height</th>\n",
       "      <th>Weight</th>\n",
       "      <th>family_history_with_overweight</th>\n",
       "      <th>FAVC</th>\n",
       "      <th>FCVC</th>\n",
       "      <th>NCP</th>\n",
       "      <th>CAEC</th>\n",
       "      <th>SMOKE</th>\n",
       "      <th>CH2O</th>\n",
       "      <th>SCC</th>\n",
       "      <th>FAF</th>\n",
       "      <th>TUE</th>\n",
       "      <th>CALC</th>\n",
       "      <th>MTRANS</th>\n",
       "      <th>NObeyesdad</th>\n",
       "    </tr>\n",
       "  </thead>\n",
       "  <tbody>\n",
       "    <tr>\n",
       "      <th>34593</th>\n",
       "      <td>34593</td>\n",
       "      <td>Male</td>\n",
       "      <td>23.327836</td>\n",
       "      <td>1.721384</td>\n",
       "      <td>78.030383</td>\n",
       "      <td>yes</td>\n",
       "      <td>no</td>\n",
       "      <td>2.813234</td>\n",
       "      <td>3.00000</td>\n",
       "      <td>Sometimes</td>\n",
       "      <td>no</td>\n",
       "      <td>1.000000</td>\n",
       "      <td>no</td>\n",
       "      <td>0.807076</td>\n",
       "      <td>0.778632</td>\n",
       "      <td>Sometimes</td>\n",
       "      <td>Public_Transportation</td>\n",
       "      <td>NaN</td>\n",
       "    </tr>\n",
       "    <tr>\n",
       "      <th>34594</th>\n",
       "      <td>34594</td>\n",
       "      <td>Female</td>\n",
       "      <td>29.000000</td>\n",
       "      <td>1.590000</td>\n",
       "      <td>62.000000</td>\n",
       "      <td>no</td>\n",
       "      <td>yes</td>\n",
       "      <td>3.000000</td>\n",
       "      <td>3.00000</td>\n",
       "      <td>Sometimes</td>\n",
       "      <td>no</td>\n",
       "      <td>2.000000</td>\n",
       "      <td>no</td>\n",
       "      <td>0.000000</td>\n",
       "      <td>0.000000</td>\n",
       "      <td>Sometimes</td>\n",
       "      <td>Public_Transportation</td>\n",
       "      <td>NaN</td>\n",
       "    </tr>\n",
       "    <tr>\n",
       "      <th>34595</th>\n",
       "      <td>34595</td>\n",
       "      <td>Female</td>\n",
       "      <td>22.935612</td>\n",
       "      <td>1.585547</td>\n",
       "      <td>44.376637</td>\n",
       "      <td>no</td>\n",
       "      <td>yes</td>\n",
       "      <td>3.000000</td>\n",
       "      <td>2.27374</td>\n",
       "      <td>Frequently</td>\n",
       "      <td>no</td>\n",
       "      <td>2.000000</td>\n",
       "      <td>no</td>\n",
       "      <td>1.949840</td>\n",
       "      <td>1.000000</td>\n",
       "      <td>Sometimes</td>\n",
       "      <td>Public_Transportation</td>\n",
       "      <td>NaN</td>\n",
       "    </tr>\n",
       "    <tr>\n",
       "      <th>34596</th>\n",
       "      <td>34596</td>\n",
       "      <td>Male</td>\n",
       "      <td>21.000000</td>\n",
       "      <td>1.620000</td>\n",
       "      <td>53.000000</td>\n",
       "      <td>yes</td>\n",
       "      <td>yes</td>\n",
       "      <td>2.000000</td>\n",
       "      <td>3.00000</td>\n",
       "      <td>Sometimes</td>\n",
       "      <td>no</td>\n",
       "      <td>2.000000</td>\n",
       "      <td>no</td>\n",
       "      <td>3.000000</td>\n",
       "      <td>2.000000</td>\n",
       "      <td>no</td>\n",
       "      <td>Public_Transportation</td>\n",
       "      <td>NaN</td>\n",
       "    </tr>\n",
       "    <tr>\n",
       "      <th>34597</th>\n",
       "      <td>34597</td>\n",
       "      <td>Male</td>\n",
       "      <td>26.490926</td>\n",
       "      <td>1.812259</td>\n",
       "      <td>120.980508</td>\n",
       "      <td>yes</td>\n",
       "      <td>yes</td>\n",
       "      <td>2.744994</td>\n",
       "      <td>3.00000</td>\n",
       "      <td>Sometimes</td>\n",
       "      <td>no</td>\n",
       "      <td>2.205977</td>\n",
       "      <td>no</td>\n",
       "      <td>1.304291</td>\n",
       "      <td>0.630866</td>\n",
       "      <td>Sometimes</td>\n",
       "      <td>Public_Transportation</td>\n",
       "      <td>NaN</td>\n",
       "    </tr>\n",
       "  </tbody>\n",
       "</table>\n",
       "</div>"
      ],
      "text/plain": [
       "          id  Gender        Age    Height      Weight  \\\n",
       "34593  34593    Male  23.327836  1.721384   78.030383   \n",
       "34594  34594  Female  29.000000  1.590000   62.000000   \n",
       "34595  34595  Female  22.935612  1.585547   44.376637   \n",
       "34596  34596    Male  21.000000  1.620000   53.000000   \n",
       "34597  34597    Male  26.490926  1.812259  120.980508   \n",
       "\n",
       "      family_history_with_overweight FAVC      FCVC      NCP        CAEC  \\\n",
       "34593                            yes   no  2.813234  3.00000   Sometimes   \n",
       "34594                             no  yes  3.000000  3.00000   Sometimes   \n",
       "34595                             no  yes  3.000000  2.27374  Frequently   \n",
       "34596                            yes  yes  2.000000  3.00000   Sometimes   \n",
       "34597                            yes  yes  2.744994  3.00000   Sometimes   \n",
       "\n",
       "      SMOKE      CH2O SCC       FAF       TUE       CALC  \\\n",
       "34593    no  1.000000  no  0.807076  0.778632  Sometimes   \n",
       "34594    no  2.000000  no  0.000000  0.000000  Sometimes   \n",
       "34595    no  2.000000  no  1.949840  1.000000  Sometimes   \n",
       "34596    no  2.000000  no  3.000000  2.000000         no   \n",
       "34597    no  2.205977  no  1.304291  0.630866  Sometimes   \n",
       "\n",
       "                      MTRANS NObeyesdad  \n",
       "34593  Public_Transportation        NaN  \n",
       "34594  Public_Transportation        NaN  \n",
       "34595  Public_Transportation        NaN  \n",
       "34596  Public_Transportation        NaN  \n",
       "34597  Public_Transportation        NaN  "
      ]
     },
     "execution_count": 9,
     "metadata": {},
     "output_type": "execute_result"
    }
   ],
   "source": [
    "df = pd.concat([df_1, df_2], axis=0).reset_index(drop=True)\n",
    "\n",
    "if len(df) == len(df_1) + len(df_2):\n",
    "    print(\"Dataframes concatenated successfully.\")\n",
    "\n",
    "df.tail()\n"
   ]
  },
  {
   "cell_type": "code",
   "execution_count": 10,
   "id": "ab196491",
   "metadata": {},
   "outputs": [],
   "source": [
    "def encode_to_zero_one(df, column_name, cat_1, cat_2):\n",
    "    df[column_name] = df[column_name].apply(lambda x: 1 if x == cat_1 else 0 if x == cat_2 else np.nan)\n",
    "    return df\n",
    "\n"
   ]
  },
  {
   "cell_type": "code",
   "execution_count": 11,
   "id": "a50ccaa3",
   "metadata": {},
   "outputs": [
    {
     "name": "stdout",
     "output_type": "stream",
     "text": [
      "Gender\n",
      "0    17387\n",
      "1    17211\n",
      "Name: count, dtype: int64\n"
     ]
    }
   ],
   "source": [
    "df = encode_to_zero_one(df, 'Gender', 'Male', 'Female')\n",
    "print(df['Gender'].value_counts())"
   ]
  },
  {
   "cell_type": "code",
   "execution_count": 12,
   "id": "e1f180e4",
   "metadata": {},
   "outputs": [
    {
     "name": "stdout",
     "output_type": "stream",
     "text": [
      "family_history_with_overweight\n",
      "1    28398\n",
      "0     6200\n",
      "Name: count, dtype: int64\n",
      "FAVC\n",
      "1    31565\n",
      "0     3033\n",
      "Name: count, dtype: int64\n",
      "SMOKE\n",
      "0    34173\n",
      "1      425\n",
      "Name: count, dtype: int64\n",
      "SCC\n",
      "0    33447\n",
      "1     1151\n",
      "Name: count, dtype: int64\n"
     ]
    }
   ],
   "source": [
    "yes_no_columns = ['family_history_with_overweight', 'FAVC', 'SMOKE', 'SCC']\n",
    "for i in yes_no_columns:\n",
    "    df = encode_to_zero_one(df, i, 'yes', 'no')\n",
    "    print(df[i].value_counts())"
   ]
  },
  {
   "cell_type": "code",
   "execution_count": 13,
   "id": "6cc3396b",
   "metadata": {},
   "outputs": [
    {
     "data": {
      "text/plain": [
       "CAEC\n",
       "Sometimes     29218\n",
       "Frequently     4089\n",
       "Always          837\n",
       "no              454\n",
       "Name: count, dtype: int64"
      ]
     },
     "execution_count": 13,
     "metadata": {},
     "output_type": "execute_result"
    }
   ],
   "source": [
    "df['CAEC'].value_counts()"
   ]
  },
  {
   "cell_type": "code",
   "execution_count": 14,
   "id": "3114ecc7",
   "metadata": {},
   "outputs": [],
   "source": [
    "timing_map = {\n",
    "    'no': 0,           \n",
    "    'Sometimes': 1,\n",
    "    'Frequently': 2,\n",
    "    'Always': 3\n",
    "}"
   ]
  },
  {
   "cell_type": "code",
   "execution_count": 15,
   "id": "75f7a28e",
   "metadata": {},
   "outputs": [
    {
     "name": "stdout",
     "output_type": "stream",
     "text": [
      "CAEC\n",
      "0      454\n",
      "1    29218\n",
      "2     4089\n",
      "3      837\n",
      "Name: count, dtype: int64\n"
     ]
    }
   ],
   "source": [
    "df['CAEC'] = df['CAEC'].map(timing_map)\n",
    "\n",
    "print(df['CAEC'].value_counts().sort_index())"
   ]
  },
  {
   "cell_type": "code",
   "execution_count": 16,
   "id": "251a4f07",
   "metadata": {},
   "outputs": [
    {
     "data": {
      "text/plain": [
       "CALC\n",
       "Sometimes     25045\n",
       "no             8676\n",
       "Frequently      875\n",
       "Always            2\n",
       "Name: count, dtype: int64"
      ]
     },
     "execution_count": 16,
     "metadata": {},
     "output_type": "execute_result"
    }
   ],
   "source": [
    "df['CALC'].value_counts()"
   ]
  },
  {
   "cell_type": "code",
   "execution_count": 17,
   "id": "45ad7e5d",
   "metadata": {},
   "outputs": [
    {
     "name": "stdout",
     "output_type": "stream",
     "text": [
      "CALC\n",
      "0     8676\n",
      "1    25045\n",
      "2      875\n",
      "3        2\n",
      "Name: count, dtype: int64\n"
     ]
    }
   ],
   "source": [
    "df['CALC'] = df['CALC'].map(timing_map)\n",
    "print(df['CALC'].value_counts().sort_index())"
   ]
  },
  {
   "cell_type": "code",
   "execution_count": 18,
   "id": "ad734dfa",
   "metadata": {},
   "outputs": [
    {
     "name": "stdout",
     "output_type": "stream",
     "text": [
      "<class 'pandas.core.frame.DataFrame'>\n",
      "RangeIndex: 34598 entries, 0 to 34597\n",
      "Data columns (total 18 columns):\n",
      " #   Column                          Non-Null Count  Dtype  \n",
      "---  ------                          --------------  -----  \n",
      " 0   id                              34598 non-null  int64  \n",
      " 1   Gender                          34598 non-null  int64  \n",
      " 2   Age                             34598 non-null  float64\n",
      " 3   Height                          34598 non-null  float64\n",
      " 4   Weight                          34598 non-null  float64\n",
      " 5   family_history_with_overweight  34598 non-null  int64  \n",
      " 6   FAVC                            34598 non-null  int64  \n",
      " 7   FCVC                            34598 non-null  float64\n",
      " 8   NCP                             34598 non-null  float64\n",
      " 9   CAEC                            34598 non-null  int64  \n",
      " 10  SMOKE                           34598 non-null  int64  \n",
      " 11  CH2O                            34598 non-null  float64\n",
      " 12  SCC                             34598 non-null  int64  \n",
      " 13  FAF                             34598 non-null  float64\n",
      " 14  TUE                             34598 non-null  float64\n",
      " 15  CALC                            34598 non-null  int64  \n",
      " 16  MTRANS                          34598 non-null  object \n",
      " 17  NObeyesdad                      20758 non-null  object \n",
      "dtypes: float64(8), int64(8), object(2)\n",
      "memory usage: 4.8+ MB\n"
     ]
    }
   ],
   "source": [
    "df.info()"
   ]
  },
  {
   "cell_type": "code",
   "execution_count": 19,
   "id": "42b6ee41",
   "metadata": {},
   "outputs": [
    {
     "data": {
      "text/plain": [
       "MTRANS\n",
       "Public_Transportation    27798\n",
       "Automobile                5939\n",
       "Walking                    747\n",
       "Motorbike                   57\n",
       "Bike                        57\n",
       "Name: count, dtype: int64"
      ]
     },
     "execution_count": 19,
     "metadata": {},
     "output_type": "execute_result"
    }
   ],
   "source": [
    "df['MTRANS'].value_counts()"
   ]
  },
  {
   "cell_type": "code",
   "execution_count": 20,
   "id": "911dab91",
   "metadata": {},
   "outputs": [],
   "source": [
    "df = pd.get_dummies(df, columns=['MTRANS'], prefix='MTRANS')"
   ]
  },
  {
   "cell_type": "code",
   "execution_count": 21,
   "id": "811a68c6",
   "metadata": {},
   "outputs": [],
   "source": [
    "df['BMI'] = df['Weight'] / (df['Height'] ** 2)"
   ]
  },
  {
   "cell_type": "code",
   "execution_count": 22,
   "id": "e85524cd",
   "metadata": {},
   "outputs": [],
   "source": [
    "bins = [0, 18.5, 25, 30, np.inf]\n",
    "labels = ['Underweight', 'Normal', 'Overweight', 'Obese']\n",
    "df['BMI_category'] = pd.cut(df['BMI'], bins=bins, labels=labels)\n",
    "\n",
    "# 3) One‑hot encode BMI_category\n",
    "df = pd.get_dummies(df, columns=['BMI_category'], prefix='BMI_cat')"
   ]
  },
  {
   "cell_type": "code",
   "execution_count": 23,
   "id": "9f3def0a",
   "metadata": {},
   "outputs": [
    {
     "name": "stdout",
     "output_type": "stream",
     "text": [
      "<class 'pandas.core.frame.DataFrame'>\n",
      "RangeIndex: 34598 entries, 0 to 34597\n",
      "Data columns (total 27 columns):\n",
      " #   Column                          Non-Null Count  Dtype  \n",
      "---  ------                          --------------  -----  \n",
      " 0   id                              34598 non-null  int64  \n",
      " 1   Gender                          34598 non-null  int64  \n",
      " 2   Age                             34598 non-null  float64\n",
      " 3   Height                          34598 non-null  float64\n",
      " 4   Weight                          34598 non-null  float64\n",
      " 5   family_history_with_overweight  34598 non-null  int64  \n",
      " 6   FAVC                            34598 non-null  int64  \n",
      " 7   FCVC                            34598 non-null  float64\n",
      " 8   NCP                             34598 non-null  float64\n",
      " 9   CAEC                            34598 non-null  int64  \n",
      " 10  SMOKE                           34598 non-null  int64  \n",
      " 11  CH2O                            34598 non-null  float64\n",
      " 12  SCC                             34598 non-null  int64  \n",
      " 13  FAF                             34598 non-null  float64\n",
      " 14  TUE                             34598 non-null  float64\n",
      " 15  CALC                            34598 non-null  int64  \n",
      " 16  NObeyesdad                      20758 non-null  object \n",
      " 17  MTRANS_Automobile               34598 non-null  bool   \n",
      " 18  MTRANS_Bike                     34598 non-null  bool   \n",
      " 19  MTRANS_Motorbike                34598 non-null  bool   \n",
      " 20  MTRANS_Public_Transportation    34598 non-null  bool   \n",
      " 21  MTRANS_Walking                  34598 non-null  bool   \n",
      " 22  BMI                             34598 non-null  float64\n",
      " 23  BMI_cat_Underweight             34598 non-null  bool   \n",
      " 24  BMI_cat_Normal                  34598 non-null  bool   \n",
      " 25  BMI_cat_Overweight              34598 non-null  bool   \n",
      " 26  BMI_cat_Obese                   34598 non-null  bool   \n",
      "dtypes: bool(9), float64(9), int64(8), object(1)\n",
      "memory usage: 5.0+ MB\n"
     ]
    }
   ],
   "source": [
    "df.info()"
   ]
  },
  {
   "cell_type": "code",
   "execution_count": 24,
   "id": "fb2e7cbc",
   "metadata": {},
   "outputs": [
    {
     "data": {
      "image/png": "[encoded data removed]",
      "text/plain": [
       "<Figure size 600x400 with 1 Axes>"
      ]
     },
     "metadata": {},
     "output_type": "display_data"
    }
   ],
   "source": [
    "plt.figure(figsize=(6,4))\n",
    "plt.hist(df['Age'], bins=20, edgecolor='k')\n",
    "plt.title('Age Distribution')\n",
    "plt.xlabel('Age')\n",
    "plt.ylabel('Count')\n",
    "plt.tight_layout()\n",
    "plt.show()"
   ]
  },
  {
   "cell_type": "code",
   "execution_count": 25,
   "id": "b2a180cf",
   "metadata": {},
   "outputs": [
    {
     "name": "stdout",
     "output_type": "stream",
     "text": [
      "0.00    14.000000\n",
      "0.25    20.000000\n",
      "0.50    22.851747\n",
      "0.75    26.000000\n",
      "1.00    61.000000\n",
      "Name: Age, dtype: float64\n"
     ]
    }
   ],
   "source": [
    "quantiles = df['Age'].quantile([0, 0.25, 0.5, 0.75, 1.0])\n",
    "print(quantiles)"
   ]
  },
  {
   "cell_type": "code",
   "execution_count": 26,
   "id": "0a11191d",
   "metadata": {},
   "outputs": [
    {
     "name": "stdout",
     "output_type": "stream",
     "text": [
      "AgeQ_<=20      9442\n",
      "AgeQ_21-22     7857\n",
      "AgeQ_23-26    10557\n",
      "AgeQ_27+       6742\n",
      "dtype: int64\n"
     ]
    }
   ],
   "source": [
    "df['Age_quartile'] = pd.qcut(\n",
    "    df['Age'],\n",
    "    q=4,\n",
    "    labels=['<=20', '21-22', '23-26', '27+']\n",
    ")\n",
    "\n",
    "# 2) One‑hot encode those labels\n",
    "df = pd.get_dummies(df, columns=['Age_quartile'], prefix='AgeQ')\n",
    "\n",
    "# 3) Verify bucket sizes\n",
    "print(df.filter(like='AgeQ_').sum())"
   ]
  },
  {
   "cell_type": "code",
   "execution_count": 27,
   "id": "80b7be9d",
   "metadata": {},
   "outputs": [],
   "source": [
    "# Water intake per kg\n",
    "df['CH2O_per_kg'] = df['CH2O'] / df['Weight']"
   ]
  },
  {
   "cell_type": "code",
   "execution_count": 28,
   "id": "3d9a0465",
   "metadata": {},
   "outputs": [],
   "source": [
    "# Capture the balance (or imbalance) between high‑calorie consumption (FAVC) and exercise frequency (FAF).\n",
    "df['act_caloric'] = df['FAVC'] * (1 / (df['FAF'] + 1e-3))\n"
   ]
  },
  {
   "cell_type": "code",
   "execution_count": 29,
   "id": "a52c1ed0",
   "metadata": {},
   "outputs": [],
   "source": [
    "# High screen time coupled with low physical activity is a known risk factor. tech_to_activity computes Technology vs activity ratio \n",
    "df['tech_to_activity'] = df['TUE'] / (df['FAF'] + 1e-3)\n"
   ]
  },
  {
   "cell_type": "code",
   "execution_count": 30,
   "id": "403e88f1",
   "metadata": {},
   "outputs": [
    {
     "data": {
      "text/plain": [
       "Index(['id', 'Gender', 'Age', 'Height', 'Weight',\n",
       "       'family_history_with_overweight', 'FAVC', 'FCVC', 'NCP', 'CAEC',\n",
       "       'SMOKE', 'CH2O', 'SCC', 'FAF', 'TUE', 'CALC', 'MTRANS_Automobile',\n",
       "       'MTRANS_Bike', 'MTRANS_Motorbike', 'MTRANS_Public_Transportation',\n",
       "       'MTRANS_Walking', 'BMI', 'BMI_cat_Underweight', 'BMI_cat_Normal',\n",
       "       'BMI_cat_Overweight', 'BMI_cat_Obese', 'AgeQ_<=20', 'AgeQ_21-22',\n",
       "       'AgeQ_23-26', 'AgeQ_27+', 'CH2O_per_kg', 'act_caloric',\n",
       "       'tech_to_activity'],\n",
       "      dtype='object')"
      ]
     },
     "execution_count": 30,
     "metadata": {},
     "output_type": "execute_result"
    }
   ],
   "source": [
    "#split the dataset into train and test sets\n",
    "\n",
    "train = df[df['NObeyesdad'].notnull()]\n",
    "test = df[df['NObeyesdad'].isnull()]\n",
    "test = test.drop(columns=['NObeyesdad'])\n",
    "\n",
    "test.columns"
   ]
  },
  {
   "cell_type": "code",
   "execution_count": 32,
   "id": "c4985218",
   "metadata": {},
   "outputs": [
    {
     "data": {
      "image/png": "[encoded data removed]",
      "text/plain": [
       "<Figure size 1000x500 with 1 Axes>"
      ]
     },
     "metadata": {},
     "output_type": "display_data"
    }
   ],
   "source": [
    "# Define the natural order of obesity classes\n",
    "order = [\n",
    "    'Insufficient_Weight',\n",
    "    'Normal_Weight',\n",
    "    'Overweight_Level_I',\n",
    "    'Overweight_Level_II',\n",
    "    'Obesity_Type_I',\n",
    "    'Obesity_Type_II',\n",
    "    'Obesity_Type_III'\n",
    "]\n",
    "\n",
    "plt.figure(figsize=(10,5))\n",
    "sns.boxplot(\n",
    "    x='NObeyesdad',\n",
    "    y='Age',\n",
    "    data=train,\n",
    "    order=order,\n",
    "    showfliers=True  # this is the default, shows the dots\n",
    ")\n",
    "plt.xticks(rotation=45)\n",
    "plt.title('Age by Obesity Category')\n",
    "plt.tight_layout()\n",
    "plt.show()"
   ]
  },
  {
   "cell_type": "markdown",
   "id": "9e4165aa",
   "metadata": {},
   "source": [
    "Key takeaways:\n",
    " * Underweight/Normal are concentrated among late teens/early 20s.\n",
    " * Higher obesity levels (II & III) have a much broader age range, drawing from both younger and older adults.\n",
    " * Especially for Obesity II, age alone is a weaker predictor—you see people from their teens all the way into their 60s."
   ]
  },
  {
   "cell_type": "code",
   "execution_count": 36,
   "id": "8b3bedaf",
   "metadata": {},
   "outputs": [
    {
     "data": {
      "image/png": "[encoded data removed]",
      "text/plain": [
       "<Figure size 1000x500 with 1 Axes>"
      ]
     },
     "metadata": {},
     "output_type": "display_data"
    }
   ],
   "source": [
    "# BMI by Category\n",
    "\n",
    "plt.figure(figsize=(10,5))\n",
    "sns.boxplot(\n",
    "    x='NObeyesdad', y='BMI',\n",
    "    data=train,\n",
    "    order=order   # same order list you used before\n",
    ")\n",
    "plt.xticks(rotation=45)\n",
    "plt.title('BMI by Obesity Category')\n",
    "plt.tight_layout()\n",
    "plt.show()"
   ]
  },
  {
   "cell_type": "code",
   "execution_count": null,
   "id": "a3f0f37a",
   "metadata": {},
   "outputs": [
    {
     "data": {
      "image/png": "[encoded data removed]",
      "text/plain": [
       "<Figure size 1200x400 with 2 Axes>"
      ]
     },
     "metadata": {},
     "output_type": "display_data"
    }
   ],
   "source": [
    "# Weight and Height\n",
    "fig, axes = plt.subplots(1, 2, figsize=(12,4), sharey=False)\n",
    "\n",
    "sns.boxplot(x='NObeyesdad', y='Weight', data=train,\n",
    "            order=order, ax=axes[0])\n",
    "axes[0].set_title('Weight by Category')\n",
    "axes[0].tick_params(axis='x', rotation=45)\n",
    "\n",
    "sns.boxplot(x='NObeyesdad', y='Height', data=train,\n",
    "            order=order, ax=axes[1])\n",
    "axes[1].set_title('Height by Category')\n",
    "axes[1].tick_params(axis='x', rotation=45)\n",
    "\n",
    "plt.tight_layout()\n",
    "plt.show()\n"
   ]
  },
  {
   "cell_type": "code",
   "execution_count": 39,
   "id": "268c5248",
   "metadata": {},
   "outputs": [
    {
     "data": {
      "image/png": "[encoded data removed]",
      "text/plain": [
       "<Figure size 1000x500 with 1 Axes>"
      ]
     },
     "metadata": {},
     "output_type": "display_data"
    }
   ],
   "source": [
    "# Water intake per kg\n",
    "plt.figure(figsize=(10,5))\n",
    "sns.boxplot(x='NObeyesdad', y='CH2O_per_kg', data=train,\n",
    "            order=order)\n",
    "plt.xticks(rotation=45)\n",
    "plt.title('Water Intake per kg by Category')\n",
    "plt.tight_layout()\n",
    "plt.show()\n"
   ]
  },
  {
   "cell_type": "code",
   "execution_count": 41,
   "id": "5da59874",
   "metadata": {},
   "outputs": [
    {
     "name": "stdout",
     "output_type": "stream",
     "text": [
      "                      count       mean       std        min        25%  \\\n",
      "NObeyesdad                                                               \n",
      "Insufficient_Weight  2523.0  17.583619  1.388408  12.868541  17.025801   \n",
      "Normal_Weight        3082.0  22.000999  2.194097  14.631670  20.568937   \n",
      "Obesity_Type_I       2910.0  32.154649  2.513458  16.597443  31.020408   \n",
      "Obesity_Type_II      3248.0  36.521958  2.112538  24.048460  35.436970   \n",
      "Obesity_Type_III     4046.0  41.781745  2.670789  18.178670  40.371119   \n",
      "Overweight_Level_I   2427.0  26.059270  1.768697  15.761880  25.390625   \n",
      "Overweight_Level_II  2522.0  28.192491  1.835666  21.513859  27.080170   \n",
      "\n",
      "                           50%        75%        max  \n",
      "NObeyesdad                                            \n",
      "Insufficient_Weight  17.506390  18.025957  36.778115  \n",
      "Normal_Weight        22.038567  23.661439  32.882414  \n",
      "Obesity_Type_I       32.121386  33.298647  46.805188  \n",
      "Obesity_Type_II      36.378753  38.023475  46.222483  \n",
      "Obesity_Type_III     41.750620  43.615233  54.997991  \n",
      "Overweight_Level_I   25.963757  26.672763  35.555556  \n",
      "Overweight_Level_II  28.020083  29.086346  36.741456  \n"
     ]
    }
   ],
   "source": [
    "bmi_description = train.groupby('NObeyesdad')['BMI'].describe()\n",
    "print(bmi_description)"
   ]
  }
 ],
 "metadata": {
  "kernelspec": {
   "display_name": "obesity_prediction_project",
   "language": "python",
   "name": "python3"
  },
  "language_info": {
   "codemirror_mode": {
    "name": "ipython",
    "version": 3
   },
   "file_extension": ".py",
   "mimetype": "text/x-python",
   "name": "python",
   "nbconvert_exporter": "python",
   "pygments_lexer": "ipython3",
   "version": "3.12.9"
  }
 },
 "nbformat": 4,
 "nbformat_minor": 5
}
